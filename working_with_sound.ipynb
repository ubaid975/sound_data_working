{
 "cells": [
  {
   "cell_type": "code",
   "execution_count": 1,
   "id": "6c90d8f2-4402-494e-a622-23d5c218b5b4",
   "metadata": {},
   "outputs": [],
   "source": [
    "import soundfile\n"
   ]
  },
  {
   "cell_type": "code",
   "execution_count": null,
   "id": "bd7209cf-fff2-419c-96ab-61587939b616",
   "metadata": {},
   "outputs": [],
   "source": []
  },
  {
   "cell_type": "code",
   "execution_count": 2,
   "id": "101eef69-b556-4072-b689-653dc4f93f32",
   "metadata": {},
   "outputs": [],
   "source": [
    "import soundfile"
   ]
  },
  {
   "cell_type": "code",
   "execution_count": 3,
   "id": "279626e4-840e-4f75-9f7a-6c6af8756908",
   "metadata": {},
   "outputs": [],
   "source": [
    "shama_sound=soundfile.read(r'C:\\Users\\ubaid\\Downloads\\shama.opus')"
   ]
  },
  {
   "cell_type": "code",
   "execution_count": 4,
   "id": "bbcd33be-3018-4255-b2ae-360ccfb0a771",
   "metadata": {},
   "outputs": [
    {
     "data": {
      "text/plain": [
       "(136925,)"
      ]
     },
     "execution_count": 4,
     "metadata": {},
     "output_type": "execute_result"
    }
   ],
   "source": [
    "shama_sound[0].shape"
   ]
  },
  {
   "cell_type": "code",
   "execution_count": 5,
   "id": "d301ad7e-98ff-499a-8bfa-8a71887bb774",
   "metadata": {},
   "outputs": [],
   "source": [
    "import librosa"
   ]
  },
  {
   "cell_type": "code",
   "execution_count": 20,
   "id": "89c5e2de-e23c-4db4-b895-8186474d0453",
   "metadata": {},
   "outputs": [],
   "source": [
    "soundfile.write('shama1.mp3',shama_sound[0],44100)"
   ]
  },
  {
   "cell_type": "code",
   "execution_count": null,
   "id": "d09d48dc-8cee-4f31-8ab0-6bb9a5ca1ce2",
   "metadata": {},
   "outputs": [],
   "source": [
    "import librosa"
   ]
  },
  {
   "cell_type": "code",
   "execution_count": 17,
   "id": "62e6b958-0ae4-47c9-a3d7-dd6cf8b7eca6",
   "metadata": {},
   "outputs": [],
   "source": [
    "import os"
   ]
  },
  {
   "cell_type": "code",
   "execution_count": 18,
   "id": "7f0680d8-493e-4440-b48b-f6dc363effee",
   "metadata": {},
   "outputs": [
    {
     "data": {
      "text/plain": [
       "'C:\\\\Users\\\\ubaid'"
      ]
     },
     "execution_count": 18,
     "metadata": {},
     "output_type": "execute_result"
    }
   ],
   "source": [
    "os.getcwd()"
   ]
  },
  {
   "cell_type": "code",
   "execution_count": 36,
   "id": "313aa484-ef3e-4352-b3b8-d94910aa35c0",
   "metadata": {},
   "outputs": [],
   "source": [
    "y,sr=librosa.load(r'C:\\Users\\ubaid\\Downloads\\shama.opus')"
   ]
  },
  {
   "cell_type": "code",
   "execution_count": 37,
   "id": "87df0b9d-9416-4f4d-af6e-a8abc3d6e0e5",
   "metadata": {},
   "outputs": [
    {
     "data": {
      "text/plain": [
       "array([ 1.7514320e-06, -1.3551047e-06, -4.7673973e-07, ...,\n",
       "        1.1701979e-02,  2.1040168e-02,  1.0551637e-02], dtype=float32)"
      ]
     },
     "execution_count": 37,
     "metadata": {},
     "output_type": "execute_result"
    }
   ],
   "source": [
    "y"
   ]
  },
  {
   "cell_type": "code",
   "execution_count": 38,
   "id": "b20eaabe-e80c-47ab-994b-a0d67e36bdd5",
   "metadata": {},
   "outputs": [
    {
     "data": {
      "text/plain": [
       "22050"
      ]
     },
     "execution_count": 38,
     "metadata": {},
     "output_type": "execute_result"
    }
   ],
   "source": [
    "sr"
   ]
  },
  {
   "cell_type": "code",
   "execution_count": 40,
   "id": "0859b96c-dfc4-45de-902c-43a25aa55e16",
   "metadata": {},
   "outputs": [],
   "source": [
    "soundfile.write('shama2.mp3',y,sr)"
   ]
  },
  {
   "cell_type": "code",
   "execution_count": 41,
   "id": "ab43b102-2608-4ff2-b82c-80234bc9a46f",
   "metadata": {},
   "outputs": [],
   "source": [
    "y1,sr1=librosa.load(r'C:\\Users\\ubaid\\Downloads\\hina.opus')"
   ]
  },
  {
   "cell_type": "code",
   "execution_count": 42,
   "id": "38881c6a-149e-43d0-9139-f35b496350e7",
   "metadata": {},
   "outputs": [
    {
     "data": {
      "text/plain": [
       "array([ 1.4433741e-06, -1.9548079e-06,  5.5690720e-07, ...,\n",
       "        1.6309890e-03,  1.0969110e-03,  4.1609272e-04], dtype=float32)"
      ]
     },
     "execution_count": 42,
     "metadata": {},
     "output_type": "execute_result"
    }
   ],
   "source": [
    "y1"
   ]
  },
  {
   "cell_type": "code",
   "execution_count": 43,
   "id": "570b1c8a-0a2b-43a1-9127-2fe043dec961",
   "metadata": {},
   "outputs": [
    {
     "data": {
      "text/plain": [
       "22050"
      ]
     },
     "execution_count": 43,
     "metadata": {},
     "output_type": "execute_result"
    }
   ],
   "source": [
    "sr1"
   ]
  },
  {
   "cell_type": "code",
   "execution_count": 44,
   "id": "5bdaefd9-32a8-4a25-a5be-d6254cc558ac",
   "metadata": {},
   "outputs": [
    {
     "data": {
      "text/plain": [
       "22050"
      ]
     },
     "execution_count": 44,
     "metadata": {},
     "output_type": "execute_result"
    }
   ],
   "source": [
    "sr"
   ]
  },
  {
   "cell_type": "code",
   "execution_count": 46,
   "id": "1998a2a1-8b9a-4fec-a3b1-5b85f8baee79",
   "metadata": {},
   "outputs": [
    {
     "data": {
      "text/plain": [
       "(188700,)"
      ]
     },
     "execution_count": 46,
     "metadata": {},
     "output_type": "execute_result"
    }
   ],
   "source": [
    "y.shape"
   ]
  },
  {
   "cell_type": "code",
   "execution_count": 47,
   "id": "51d47b47-a0d0-4012-8f73-634295c6d0b5",
   "metadata": {},
   "outputs": [
    {
     "data": {
      "text/plain": [
       "(1515228,)"
      ]
     },
     "execution_count": 47,
     "metadata": {},
     "output_type": "execute_result"
    }
   ],
   "source": [
    "y1.shape"
   ]
  },
  {
   "cell_type": "code",
   "execution_count": 50,
   "id": "6b237457-f41a-408e-855d-c847f3d3f1d7",
   "metadata": {},
   "outputs": [],
   "source": [
    "y2=y1[:y.shape[0]]"
   ]
  },
  {
   "cell_type": "code",
   "execution_count": 51,
   "id": "06ea196e-5e70-468d-ab71-db240030072a",
   "metadata": {},
   "outputs": [
    {
     "data": {
      "text/plain": [
       "(188700,)"
      ]
     },
     "execution_count": 51,
     "metadata": {},
     "output_type": "execute_result"
    }
   ],
   "source": [
    "y2.shape"
   ]
  },
  {
   "cell_type": "code",
   "execution_count": 53,
   "id": "08cedaa5-88f4-4eeb-aecd-f5b171332e31",
   "metadata": {},
   "outputs": [],
   "source": [
    "y4=y+y2"
   ]
  },
  {
   "cell_type": "code",
   "execution_count": 55,
   "id": "af9aaa6b-bd6c-481c-8288-b44321365892",
   "metadata": {},
   "outputs": [],
   "source": [
    "soundfile.write('hina.mp3',y4,sr)"
   ]
  },
  {
   "cell_type": "code",
   "execution_count": null,
   "id": "a21c80a0-7f53-4aa4-a55b-d049b6b187ca",
   "metadata": {},
   "outputs": [],
   "source": []
  }
 ],
 "metadata": {
  "kernelspec": {
   "display_name": "Python 3 (ipykernel)",
   "language": "python",
   "name": "python3"
  },
  "language_info": {
   "codemirror_mode": {
    "name": "ipython",
    "version": 3
   },
   "file_extension": ".py",
   "mimetype": "text/x-python",
   "name": "python",
   "nbconvert_exporter": "python",
   "pygments_lexer": "ipython3",
   "version": "3.11.7"
  }
 },
 "nbformat": 4,
 "nbformat_minor": 5
}
